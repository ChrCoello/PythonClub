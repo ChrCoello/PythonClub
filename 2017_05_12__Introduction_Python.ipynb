{
 "cells": [
  {
   "cell_type": "markdown",
   "metadata": {},
   "source": [
    "# 2017.05.12 -- Introduction: installation, tutorial material and projects"
   ]
  },
  {
   "cell_type": "code",
   "execution_count": 1,
   "metadata": {
    "collapsed": false
   },
   "outputs": [
    {
     "name": "stdout",
     "output_type": "stream",
     "text": [
      "Hello Nesys world\n"
     ]
    }
   ],
   "source": [
    "print('Hello Nesys world')"
   ]
  },
  {
   "cell_type": "markdown",
   "metadata": {},
   "source": [
    "## Installation with Anaconda (conda)\n",
    "\n",
    "Though there are various ways to install Python, the one I would suggest – particularly if you wish to eventually use the data science tools mentioned above – is via the cross-platform Anaconda distribution which is accessible through the [Software Centre](https://kiosk.uio.no/) at UiO.\n",
    "[Anaconda](https://www.continuum.io/downloads) includes both Python and ``conda``, and additionally bundles a suite of other pre-installed packages geared toward scientific computing.\n",
    "Any others package not included with Anaconda distribution can also be installed manually on top. For example if your want to install the IPython notebook package:\n",
    "```\n",
    "[~]$ conda install ipython-notebook\n",
    "```\n",
    "For more information on ``conda``, including information about creating and using conda environments, refer to the Anaconda package documentation linked at the above page.\n",
    "\n",
    "In term of version, the newest version is 3.6 and I would recommend to start learning Python 3 instead of PYthon 2. But some packages are only availble in Python 2. In some cases, you might have to install both in parallel. "
   ]
  },
  {
   "cell_type": "markdown",
   "metadata": {},
   "source": [
    "## Running Python code\n",
    "Python is an interpreted language (like Matlab or R) rather than compiled language (like Fortran, C or Java). There are four main ways to interpret Python code: \n",
    "- **Python interpreter**\n",
    "- **Anaconda Notebook **\n",
    "- **IPython inpterpreter**\n",
    "- **Self-contained scripts**\n",
    "- **Jupyter notebook**\n",
    "\n",
    "You'll get more details on these different ways to interact on [Jake VdP Tutorial](https://github.com/jakevdp/WhirlwindTourOfPython/01-How-to-Run-Python-Code.ipynb )."
   ]
  },
  {
   "cell_type": "markdown",
   "metadata": {},
   "source": [
    "## Online free material for learning the basic\n",
    "Here are listed a few known resources that can be used to get familiar with the Python language\n",
    "- [Solo Learn](https://www.sololearn.com/Course/Python/) -- general introduction to the syntax\n",
    "- [Tutorialspoint](www.tutorialspoint.com) -- general introduciton to the syntax\n",
    "- [WhirlwindTourOfPython](https://github.com/jakevdp/WhirlwindTourOfPython) online books in Jupyter Notebooks -- general overview of the syntax. Exist in a free [PDF](http://www.oreilly.com/programming/free/files/a-whirlwind-tour-of-python.pdf).\n",
    "- [Python for Data Science](https://github.com/jakevdp/PythonDataScienceHandbook) online books in Jupyter Notebooks -- focusing more on data science packages numpy, scipy, panda, etc...\n",
    "- [Stack Overflow](http://stackoverflow.com/) : if you don't find the answer you wnant for a specific question using Google, this is the website where you can ask any question and get the answer in less than 10 minutes."
   ]
  },
  {
   "cell_type": "markdown",
   "metadata": {},
   "source": [
    "## Projects\n",
    "Here are some of the projects that the team has put forward. We will create common code repositories for each of this projects, so that it is easy to access by the lab members. This will be msot probably live under the lab GitHub page.\n",
    "- Extract information frmo websites (PLA, Allen Brain Mouse, etc...) using package like Beautiful Soup\n",
    "- Manipulating high-resolution tiff files : resizing, renaming, basic operations\n",
    "- Automatisation of tranformation of mesh files into VR ready files using Blender command line\n",
    "- Using convolutional neural networks for predictng z-coordinate of a microscopic section"
   ]
  },
  {
   "cell_type": "code",
   "execution_count": 2,
   "metadata": {
    "collapsed": false
   },
   "outputs": [
    {
     "name": "stdout",
     "output_type": "stream",
     "text": [
      "Bye Nesys world\n"
     ]
    }
   ],
   "source": [
    "print('Bye Nesys world')"
   ]
  },
  {
   "cell_type": "code",
   "execution_count": null,
   "metadata": {
    "collapsed": true
   },
   "outputs": [],
   "source": []
  }
 ],
 "metadata": {
  "kernelspec": {
   "display_name": "Python 3",
   "language": "python",
   "name": "python3"
  },
  "language_info": {
   "codemirror_mode": {
    "name": "ipython",
    "version": 3
   },
   "file_extension": ".py",
   "mimetype": "text/x-python",
   "name": "python",
   "nbconvert_exporter": "python",
   "pygments_lexer": "ipython3",
   "version": "3.5.2"
  }
 },
 "nbformat": 4,
 "nbformat_minor": 2
}
